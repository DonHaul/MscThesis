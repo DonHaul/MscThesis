{
 "cells": [
  {
   "cell_type": "code",
   "execution_count": null,
   "metadata": {},
   "outputs": [],
   "source": [
    "import numpy as np\n",
    "import open3d\n",
    "import pickler as pickle\n",
    "import procrustes as proc\n",
    "import open3d\n",
    "\n"
   ]
  },
  {
   "cell_type": "code",
   "execution_count": null,
   "metadata": {},
   "outputs": [],
   "source": [
    "\n",
    "ola = pickle.Out(\"pickles/obs26-03-2019 12-02-35.pickle\")\n",
    "\n",
    "C=ola[\"AtA\"]\n",
    "Nmarkers=12\n",
    "\n",
    "u, s, vh = np.linalg.svd(C)\n",
    "#print(\"Eigenfs\")\n",
    "#print(u.shape, s.shape, vh.shape)\n",
    "\n",
    "solution = u[:,-3:]\n",
    "\n",
    "#split in 3x3 matrices, dat are close to the rotation matrices but not quite\n",
    "rotsols = []\n",
    "solsplit = np.split(solution,Nmarkers)\n",
    "\n",
    "#get actual rotation matrices by doing the procrustes\n",
    "for sol in solsplit:\n",
    "    r,t=proc.procrustes(np.eye(3),sol)\n",
    "    rotsols.append(r)\n",
    "\n",
    "\n",
    "\n",
    "rref = rotsols[0]\n"
   ]
  },
  {
   "cell_type": "code",
   "execution_count": null,
   "metadata": {},
   "outputs": [],
   "source": [
    "\n",
    "frames =[]\n",
    "counter = 0\n",
    "#make ref 1 the reference and display rotations\n",
    "for r in rotsols:\n",
    "\n",
    "    #r=np.dot(r.T,rref)\n",
    "    #r=np.dot(rref.T,r)  #WHY IS THIS THE RIGHT OPERATION\n",
    "    refe = open3d.create_mesh_coordinate_frame(size = 0.6, origin = [0, 0, 0])\n",
    "\n",
    "    trans = np.zeros((4,4))\n",
    "    trans[3,3]=1\n",
    "    trans[0,3]=counter #linha ,coluna\n",
    "    trans[0:3,0:3]=r#np.eye(3)\n",
    "\n",
    "    refe.transform(trans)\n",
    "    frames.append(refe)\n",
    "\n",
    "    counter = counter +1\n",
    "\n",
    "\n",
    "open3d.draw_geometries(frames)\n",
    "\n",
    "#print(ig.Nmarkers + ig.markerIDoffset)\n",
    "Rrelations = [[] for i in range(Nmarkers)] #correct way to make 2d list\n",
    "\n",
    "#generate R between each things\n",
    "for i in range(0,Nmarkers):\n",
    "    for j in range(0,Nmarkers):\n",
    "        Rrelations[i].append(np.dot(rotsols[j],rotsols[i].T))\n",
    "        #print(i,j)\n",
    "        #print(np.dot(rotsols[j],rotsols[i].T))\n",
    "    \n",
    "    #print(i)\n",
    "    #print(len(Rrelations[i]))\n"
   ]
  },
  {
   "cell_type": "code",
   "execution_count": null,
   "metadata": {},
   "outputs": [],
   "source": []
  },
  {
   "cell_type": "code",
   "execution_count": null,
   "metadata": {},
   "outputs": [],
   "source": []
  },
  {
   "cell_type": "code",
   "execution_count": null,
   "metadata": {},
   "outputs": [],
   "source": []
  }
 ],
 "metadata": {
  "kernelspec": {
   "display_name": "Python 2",
   "language": "python",
   "name": "python2"
  },
  "language_info": {
   "codemirror_mode": {
    "name": "ipython",
    "version": 2
   },
   "file_extension": ".py",
   "mimetype": "text/x-python",
   "name": "python",
   "nbconvert_exporter": "python",
   "pygments_lexer": "ipython2",
   "version": "2.7.12"
  }
 },
 "nbformat": 4,
 "nbformat_minor": 2
}
